{
 "cells": [
  {
   "cell_type": "markdown",
   "id": "f2aaf913",
   "metadata": {},
   "source": [
    "(01_Vorkurs)=\n",
    "\n",
    "> in diesem Kapitel haben Sie einen Vorkurs zur Auffrischung der Mathematik und Python-Programmierung\n",
    "> für die digitale Signalverarbeitung Themen in dieser Vorlesung.\n",
    "> Sie können dieses Kapitel überspringen, wenn Sie mit diesen Themen bereits vertraut sind und sich sicher fühlen.\n",
    "\n",
    "# Mathematische Vorbereitung \n",
    "\n",
    "\n",
    "### Geometrische Bedeutung der Ableitung\n",
    "Wir betrachten die Funktion\n",
    "\n",
    "$$ y=f(x)$$\n",
    "\n",
    "$x_0$ sei ein beliebiger punkt auf der $x$-Achse.\n",
    "\n",
    "```{figure} /_static/lecture_specific/01_Vorkurs/Ableitung_1.png\n",
    "```\n",
    "\n",
    "### Komplexe Zahlen {cite}`baspinar`\n",
    "Wenn wir bei einer mathematischen Berechnung auf $\\sqrt{-1}$ stoßen, ersetzen wir $\\sqrt{-1}$ durch\n",
    "das Symbol $j$ und rechnen wir weiter.\n",
    "\n",
    "**Beispiel\n",
    "\n",
    "Wir möchten die quadratische Gleichung\n",
    "$$ x^2-2x+5=a.x^2+b.x+c=0$$\n",
    "mit Hilfe der abc-Formel lösen:\n",
    "\n",
    "$$ x_{1,2} = \\frac{-b \\pm \\sqrt{b^2-4ac}}{2a} $$\n",
    "$$ = \\frac{-(-2) \\pm \\sqrt{(-2)^2-4.1.5}}{2.1} $$\n",
    "$$ = \\frac{2 \\pm \\sqrt{-16}}{2} = 1 \\pm 2.\\sqrt{-1} = 1 \\pm 2.j$$\n",
    "          \n",
    "Eine komplexe Zahl hat die folgende Struktur:\n",
    "$$ \\alpha+\\beta.j $$\n",
    "\n",
    "$\\alpha$ heißt der Realteil der komplexen Zahl und $\\beta$ der Imaginärteil. Eine komplexe Zahl enthält\n",
    "also zwei reelle Zahlen ($\\alpha$ und $\\beta$). Deshalb können wir eine komplexe Zahl auf einem zwei dimensionalen Koordinatensystem (wie die $xy$-Ebene) platzieren (bzw. visualisieren):\n",
    "\n",
    "\n",
    "### Matrizen\n",
    "coming soon!\n",
    "\n",
    "### Differentialgleichungen\n",
    "\n",
    "\n",
    "\n",
    "\n",
    "## Bibliography\n",
    "\n",
    "```{bibliography} ../_bibliography/references.bib\n",
    "```"
   ]
  }
 ],
 "metadata": {
  "jupytext": {
   "text_representation": {
    "extension": ".md",
    "format_name": "myst",
    "format_version": 0.13,
    "jupytext_version": "1.13.7"
   }
  },
  "kernelspec": {
   "display_name": "Python 3 (ipykernel)",
   "language": "python",
   "name": "python3"
  },
  "language_info": {
   "codemirror_mode": {
    "name": "ipython",
    "version": 3
   },
   "file_extension": ".py",
   "mimetype": "text/x-python",
   "name": "python",
   "nbconvert_exporter": "python",
   "pygments_lexer": "ipython3",
   "version": "3.8.20"
  },
  "source_map": [
   12
  ]
 },
 "nbformat": 4,
 "nbformat_minor": 5
}