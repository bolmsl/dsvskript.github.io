{
 "cells": [
  {
   "cell_type": "markdown",
   "id": "aa9518e0",
   "metadata": {},
   "source": [
    "(Filter)=\n",
    "\n",
    "# Filter\n",
    "\n",
    "\n",
    "\n",
    "\n",
    "## Was ist ein Filter?\n",
    "> Ein Filter ist ein System, das bestimmte Eigenschaften (Charakteristika) eines Signals \n",
    "> modifiziert, z.B. hervorhebt oder unterdrückt. Typischerweise sind Filter dynamische\n",
    "> Systeme und sind frequenzselektiv, d.h. sie sperren bestimmte Frequenzbereiche eines Signals \n",
    "> oder lassen diese passieren.\n",
    "\n",
    "## Digitale Filter\n",
    "Wir fokussieren uns hier auf digitale Filter, d.h. Filter, die zeitdiskret im Form von \n",
    "Differenzengleichungen umgesetzt werden und sich direkt in digitaler Schaltungstechnik oder \n",
    "in Software implementieren lassen. \n",
    "\n",
    "\n",
    "\n",
    "## Bibliography\n",
    "\n",
    "```{bibliography} ../_bibliography/references.bib\n",
    "```"
   ]
  }
 ],
 "metadata": {
  "jupytext": {
   "text_representation": {
    "extension": ".md",
    "format_name": "myst",
    "format_version": 0.13,
    "jupytext_version": "1.13.7"
   }
  },
  "kernelspec": {
   "display_name": "Python 3 (ipykernel)",
   "language": "python",
   "name": "python3"
  },
  "source_map": [
   12
  ]
 },
 "nbformat": 4,
 "nbformat_minor": 5
}