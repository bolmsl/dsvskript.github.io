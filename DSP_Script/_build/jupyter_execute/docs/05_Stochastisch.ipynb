{
 "cells": [
  {
   "cell_type": "markdown",
   "id": "ff3acda9",
   "metadata": {},
   "source": [
    "(05_Stoch)=\n",
    "# stochastische Signale\n",
    "\n",
    "## Deterministische oder stochastische Beschreibung?\n",
    "Wenn sich eine Größe zufällig oder scheinbar zufällig verhält, dann ist es sinnvoll, diese \n",
    "Größe stochastisch, d.h. mittels einer Zufallsvariablen zu beschreiben. Dabei spielt es keine \n",
    "Rolle, ob das Verhalten echten zufälligen Ursprungs ist, wie z.B. radioaktiver Zerfall, oder \n",
    "ob es durch Verknüpfung unüberschaubar vieler komplexer Einflüsse verschiedenster \n",
    "Herkunft „nur“ zufällig schwankend wirkt, wie z.B. Börsenkurse, deren Ursprung sicherlich \n",
    "rein deterministisch ist (niemand kauft oder verkauft Aktien zufällig). \n",
    "Oft kommt es auch vor, dass eine Größe zu einem Teil deterministisch und zu einem \n",
    "weiteren Teil stochastisch beschrieben wird. Typisch ist die Beschreibung einer Größe \n",
    "x = x1 + x2 als Summe eines deterministischen Anteils x1 und eines zufälligen Anteils x2. \n",
    "\n",
    "## Bibliography\n",
    "\n",
    "```{bibliography} ../_bibliography/references.bib\n",
    "```"
   ]
  }
 ],
 "metadata": {
  "jupytext": {
   "text_representation": {
    "extension": ".md",
    "format_name": "myst",
    "format_version": 0.13,
    "jupytext_version": "1.13.7"
   }
  },
  "kernelspec": {
   "display_name": "Python 3 (ipykernel)",
   "language": "python",
   "name": "python3"
  },
  "source_map": [
   12
  ]
 },
 "nbformat": 4,
 "nbformat_minor": 5
}